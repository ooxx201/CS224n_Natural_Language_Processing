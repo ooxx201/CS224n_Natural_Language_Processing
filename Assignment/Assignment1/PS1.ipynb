{
 "cells": [
  {
   "cell_type": "markdown",
   "metadata": {},
   "source": [
    "# 1\n",
    "### (a)\n",
    "\\begin{align*}\n",
    "softmax(\\mathcal{x + c})_i &= \\frac{e^{x_i + c}}{\\sum_j e^{x_j + c}} \\\\\n",
    "                           &= \\frac{e^{x_i} e^c}{\\sum_j e^{x_j} e^c} \\\\\n",
    "                           &= \\frac{e^c e^{x_i}}{e^c\\sum_j e^{x_j}} \\\\\n",
    "                           &= \\frac{e^{x_i}}{\\sum_j e^{x_j}} \\\\\n",
    "                           &= softmax(\\mathcal{x})_i\n",
    "\\end{align*}\n",
    "Thus: $$softmax(\\mathcal{x + c}) = softmax(\\mathcal{x})$$"
   ]
  },
  {
   "cell_type": "markdown",
   "metadata": {},
   "source": [
    "# 2\n",
    "### (a) \n",
    "We have:\n",
    "$$\\sigma(x) = \\frac{1}{1 + e^{-x}}$$\n",
    "Thus:\n",
    "\\begin{align*}\n",
    "\\frac{\\partial\\sigma(x)}{\\partial x} &= - \\frac{\\partial (1 + e^{-x})}{\\partial x} \n",
    "                                          \\frac{1}{(1 + e^{-x})^2} \\\\\n",
    "                                     &= \\frac {e^{-x}}{(1 + e^{-x})^2} \\\\\n",
    "                                     &= \\frac {e^{-x}}{1 + e^{-x}} \\frac {1}{1 + e^{-x}} \\\\\n",
    "                                     &= \\sigma(x)(1 - \\sigma(x))\n",
    "\\end{align*}"
   ]
  },
  {
   "cell_type": "markdown",
   "metadata": {},
   "source": [
    "### (b)\n",
    "$$CE(y,\\hat{y}) = - \\sum_i y_i log(\\hat{y}_i)$$"
   ]
  },
  {
   "cell_type": "markdown",
   "metadata": {},
   "source": [
    "\\begin{align*}\n",
    "\\frac{\\partial CE(y,\\hat{y})}{\\partial \\theta_i} &= - \\sum_i y_i \\frac{\\partial \\hat{y}_i}{\\partial \\theta_i} \\frac{1}{\\hat{y}_i} \\\\\n",
    "                                               &= \\hat{y} - y\n",
    "\\end{align*}"
   ]
  }
 ],
 "metadata": {
  "kernelspec": {
   "display_name": "Python-2.7",
   "language": "python",
   "name": "python-2.7"
  },
  "language_info": {
   "codemirror_mode": {
    "name": "ipython",
    "version": 2
   },
   "file_extension": ".py",
   "mimetype": "text/x-python",
   "name": "python",
   "nbconvert_exporter": "python",
   "pygments_lexer": "ipython2",
   "version": "2.7.13"
  }
 },
 "nbformat": 4,
 "nbformat_minor": 2
}
